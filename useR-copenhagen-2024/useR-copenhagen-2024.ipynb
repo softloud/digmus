{
  "cells": [
    {
      "cell_type": "raw",
      "metadata": {},
      "source": [
        "---\n",
        "title: \"Animating a Melody as a Mathematical Object\"\n",
        "format: \n",
        "  revealjs:\n",
        "    css: \n",
        "      - slide_style.css\n",
        "---"
      ],
      "id": "15d4d8c7"
    },
    {
      "cell_type": "markdown",
      "metadata": {},
      "source": [
        "## dev\n",
        "\n",
        "```quarto\n",
        "cat('\n",
        "<div style=\"display: flex; justify-content: space-between;\">\n",
        "    <img src=\"https://upload.wikimedia.org/wikipedia/commons/5/5d/Konigsberg_bridges.png\" width=\"30%\">\n",
        "    <img src=\"https://upload.wikimedia.org/wikipedia/commons/thumb/9/91/7_bridges.svg/1920px-7_bridges.svg.png\" width=\"30%\">\n",
        "    <img src=\"https://upload.wikimedia.org/wikipedia/commons/thumb/9/96/K%C3%B6nigsberg_graph.svg/1920px-K%C3%B6nigsberg_graph.svg.png\" width=\"30%\">\n",
        "</div>\n",
        "')\n",
        "```{asis}\n",
        "\n",
        "## The Seven Bridges of Königsberg\n",
        "\n",
        "![](https://upload.wikimedia.org/wikipedia/commons/5/5d/Konigsberg_bridges.png)\n",
        "\n",
        "![](https://upload.wikimedia.org/wikipedia/commons/thumb/9/91/7_bridges.svg/1920px-7_bridges.svg.png)\n",
        "\n",
        "![](https://upload.wikimedia.org/wikipedia/commons/thumb/9/96/K%C3%B6nigsberg_graph.svg/1920px-K%C3%B6nigsberg_graph.svg.png)\n",
        "\n",
        "\n",
        "## The Art of Fugue\n",
        "\n",
        "![](https://upload.wikimedia.org/wikipedia/commons/0/06/Title_page_of_The_Art_of_Fugue.jpg)\n",
        "\n",
        "## Contrapunctus I\n"
      ],
      "id": "c263d087"
    }
  ],
  "metadata": {
    "kernelspec": {
      "display_name": "Python 3",
      "language": "python",
      "name": "python3"
    }
  },
  "nbformat": 4,
  "nbformat_minor": 5
}